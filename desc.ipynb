{
 "cells": [
  {
   "cell_type": "markdown",
   "id": "a4e889a6",
   "metadata": {},
   "source": [
    "## Individual Project1: Descriptive statsitics using Polars or Pandas"
   ]
  },
  {
   "cell_type": "markdown",
   "id": "8a92c344",
   "metadata": {},
   "source": [
    "### Dataset description:\n",
    "* Age (in years): This field quantifies the age of each individual, denominated in years. It serves as a chronological reference for the dataset.\n",
    "* Height (in meters): The \"Height\" column provides measurements of the subjects' stature in meters. This standardized unit allows for precise representation and comparison of individuals' heights.\n",
    "* Weight (in kilograms): In the \"Weight\" column, the weights of the subjects are quantified in kilograms. This unit ensures consistency and accuracy in measuring the subjects' mass.\n",
    "* BMI (Body Mass Index): Derived from the height and weight columns, the BMI column computes the Body Mass Index of each individual. The calculation utilizes the formula: BMI = (Weight in kg) / (Height in m^2). BMI is a vital numerical indicator used for categorizing individuals based on their weight relative to their height. It is expressed as a continuous variable.\n",
    "* BmiClass: The \"BmiClass\" column categorizes individuals based on their calculated BMI values. The categories include \"Obese Class 1,\" \"Overweight,\" \"Underweight,\" among others. These classifications are instrumental in health and weight analysis."
   ]
  },
  {
   "cell_type": "markdown",
   "id": "5317abc9",
   "metadata": {},
   "source": [
    "In this notebook, I am using the customized functions defined in lib.py to do statistical description."
   ]
  },
  {
   "cell_type": "code",
   "execution_count": 1,
   "id": "56eb9ccf",
   "metadata": {},
   "outputs": [],
   "source": [
    "import matplotlib.pyplot as plt\n",
    "import seaborn as sns\n",
    "from lib import pd_read, pd_desc, pd_mean, pd_median, pd_std"
   ]
  },
  {
   "cell_type": "code",
   "execution_count": 2,
   "id": "a9c6e768",
   "metadata": {},
   "outputs": [],
   "source": [
    "#load the data\n",
    "df = pd_read('bmi.csv')"
   ]
  },
  {
   "cell_type": "code",
   "execution_count": 3,
   "id": "f4e4b1d2",
   "metadata": {},
   "outputs": [
    {
     "data": {
      "text/html": [
       "<div>\n",
       "<style scoped>\n",
       "    .dataframe tbody tr th:only-of-type {\n",
       "        vertical-align: middle;\n",
       "    }\n",
       "\n",
       "    .dataframe tbody tr th {\n",
       "        vertical-align: top;\n",
       "    }\n",
       "\n",
       "    .dataframe thead th {\n",
       "        text-align: right;\n",
       "    }\n",
       "</style>\n",
       "<table border=\"1\" class=\"dataframe\">\n",
       "  <thead>\n",
       "    <tr style=\"text-align: right;\">\n",
       "      <th></th>\n",
       "      <th>Age</th>\n",
       "      <th>Height</th>\n",
       "      <th>Weight</th>\n",
       "      <th>Bmi</th>\n",
       "      <th>BmiClass</th>\n",
       "    </tr>\n",
       "  </thead>\n",
       "  <tbody>\n",
       "    <tr>\n",
       "      <th>0</th>\n",
       "      <td>61</td>\n",
       "      <td>1.85</td>\n",
       "      <td>109.30</td>\n",
       "      <td>31.935720</td>\n",
       "      <td>Obese Class 1</td>\n",
       "    </tr>\n",
       "    <tr>\n",
       "      <th>1</th>\n",
       "      <td>60</td>\n",
       "      <td>1.71</td>\n",
       "      <td>79.02</td>\n",
       "      <td>27.023700</td>\n",
       "      <td>Overweight</td>\n",
       "    </tr>\n",
       "    <tr>\n",
       "      <th>2</th>\n",
       "      <td>60</td>\n",
       "      <td>1.55</td>\n",
       "      <td>74.70</td>\n",
       "      <td>31.092612</td>\n",
       "      <td>Obese Class 1</td>\n",
       "    </tr>\n",
       "    <tr>\n",
       "      <th>3</th>\n",
       "      <td>60</td>\n",
       "      <td>1.46</td>\n",
       "      <td>35.90</td>\n",
       "      <td>16.841809</td>\n",
       "      <td>Underweight</td>\n",
       "    </tr>\n",
       "    <tr>\n",
       "      <th>4</th>\n",
       "      <td>60</td>\n",
       "      <td>1.58</td>\n",
       "      <td>97.10</td>\n",
       "      <td>38.896010</td>\n",
       "      <td>Obese Class 2</td>\n",
       "    </tr>\n",
       "  </tbody>\n",
       "</table>\n",
       "</div>"
      ],
      "text/plain": [
       "   Age  Height  Weight        Bmi       BmiClass\n",
       "0   61    1.85  109.30  31.935720  Obese Class 1\n",
       "1   60    1.71   79.02  27.023700     Overweight\n",
       "2   60    1.55   74.70  31.092612  Obese Class 1\n",
       "3   60    1.46   35.90  16.841809    Underweight\n",
       "4   60    1.58   97.10  38.896010  Obese Class 2"
      ]
     },
     "execution_count": 3,
     "metadata": {},
     "output_type": "execute_result"
    }
   ],
   "source": [
    "df.head()"
   ]
  },
  {
   "cell_type": "code",
   "execution_count": 4,
   "id": "eec12b54",
   "metadata": {},
   "outputs": [
    {
     "data": {
      "text/html": [
       "<div>\n",
       "<style scoped>\n",
       "    .dataframe tbody tr th:only-of-type {\n",
       "        vertical-align: middle;\n",
       "    }\n",
       "\n",
       "    .dataframe tbody tr th {\n",
       "        vertical-align: top;\n",
       "    }\n",
       "\n",
       "    .dataframe thead th {\n",
       "        text-align: right;\n",
       "    }\n",
       "</style>\n",
       "<table border=\"1\" class=\"dataframe\">\n",
       "  <thead>\n",
       "    <tr style=\"text-align: right;\">\n",
       "      <th></th>\n",
       "      <th>Age</th>\n",
       "      <th>Height</th>\n",
       "      <th>Weight</th>\n",
       "      <th>Bmi</th>\n",
       "    </tr>\n",
       "  </thead>\n",
       "  <tbody>\n",
       "    <tr>\n",
       "      <th>count</th>\n",
       "      <td>741.000000</td>\n",
       "      <td>741.000000</td>\n",
       "      <td>741.000000</td>\n",
       "      <td>741.000000</td>\n",
       "    </tr>\n",
       "    <tr>\n",
       "      <th>mean</th>\n",
       "      <td>31.618084</td>\n",
       "      <td>1.709427</td>\n",
       "      <td>78.412497</td>\n",
       "      <td>26.365427</td>\n",
       "    </tr>\n",
       "    <tr>\n",
       "      <th>std</th>\n",
       "      <td>11.655466</td>\n",
       "      <td>0.085974</td>\n",
       "      <td>32.254547</td>\n",
       "      <td>9.223191</td>\n",
       "    </tr>\n",
       "    <tr>\n",
       "      <th>min</th>\n",
       "      <td>15.000000</td>\n",
       "      <td>1.460000</td>\n",
       "      <td>25.900000</td>\n",
       "      <td>12.150497</td>\n",
       "    </tr>\n",
       "    <tr>\n",
       "      <th>25%</th>\n",
       "      <td>22.000000</td>\n",
       "      <td>1.670000</td>\n",
       "      <td>63.000000</td>\n",
       "      <td>22.129740</td>\n",
       "    </tr>\n",
       "    <tr>\n",
       "      <th>50%</th>\n",
       "      <td>29.000000</td>\n",
       "      <td>1.721000</td>\n",
       "      <td>72.900000</td>\n",
       "      <td>24.132412</td>\n",
       "    </tr>\n",
       "    <tr>\n",
       "      <th>75%</th>\n",
       "      <td>40.000000</td>\n",
       "      <td>1.751000</td>\n",
       "      <td>83.300000</td>\n",
       "      <td>27.249306</td>\n",
       "    </tr>\n",
       "    <tr>\n",
       "      <th>max</th>\n",
       "      <td>61.000000</td>\n",
       "      <td>2.070000</td>\n",
       "      <td>270.000000</td>\n",
       "      <td>66.301350</td>\n",
       "    </tr>\n",
       "  </tbody>\n",
       "</table>\n",
       "</div>"
      ],
      "text/plain": [
       "              Age      Height      Weight         Bmi\n",
       "count  741.000000  741.000000  741.000000  741.000000\n",
       "mean    31.618084    1.709427   78.412497   26.365427\n",
       "std     11.655466    0.085974   32.254547    9.223191\n",
       "min     15.000000    1.460000   25.900000   12.150497\n",
       "25%     22.000000    1.670000   63.000000   22.129740\n",
       "50%     29.000000    1.721000   72.900000   24.132412\n",
       "75%     40.000000    1.751000   83.300000   27.249306\n",
       "max     61.000000    2.070000  270.000000   66.301350"
      ]
     },
     "execution_count": 4,
     "metadata": {},
     "output_type": "execute_result"
    }
   ],
   "source": [
    "pd_desc(df)"
   ]
  },
  {
   "cell_type": "code",
   "execution_count": 5,
   "id": "8b10c752",
   "metadata": {},
   "outputs": [
    {
     "data": {
      "text/plain": [
       "31.61808367071525"
      ]
     },
     "execution_count": 5,
     "metadata": {},
     "output_type": "execute_result"
    }
   ],
   "source": [
    "#NBVAL check ouput\n",
    "pd_mean(df['Age'])"
   ]
  },
  {
   "cell_type": "code",
   "execution_count": 6,
   "id": "638a03e9",
   "metadata": {},
   "outputs": [
    {
     "data": {
      "text/plain": [
       "72.9"
      ]
     },
     "execution_count": 6,
     "metadata": {},
     "output_type": "execute_result"
    }
   ],
   "source": [
    "#NBVAL check ouput\n",
    "pd_median(df['Weight'])"
   ]
  },
  {
   "cell_type": "code",
   "execution_count": 7,
   "id": "9f8e4fcf",
   "metadata": {},
   "outputs": [
    {
     "data": {
      "text/plain": [
       "0.085974"
      ]
     },
     "execution_count": 7,
     "metadata": {},
     "output_type": "execute_result"
    }
   ],
   "source": [
    "#NBVAL check ouput\n",
    "round(pd_std(df['Height']),6)"
   ]
  },
  {
   "cell_type": "markdown",
   "id": "3a0e94ed",
   "metadata": {},
   "source": [
    "### Generate a histogram for age distribution."
   ]
  },
  {
   "cell_type": "code",
   "execution_count": 8,
   "id": "35002dfb",
   "metadata": {},
   "outputs": [
    {
     "data": {
      "image/png": "[encoded data removed]",
      "text/plain": [
       "<Figure size 800x600 with 1 Axes>"
      ]
     },
     "metadata": {},
     "output_type": "display_data"
    }
   ],
   "source": [
    "def histogram(data):\n",
    "    plt.figure(figsize=(8, 6))\n",
    "    sns.histplot(data[\"Age\"], kde=True, color=\"skyblue\")\n",
    "    plt.title(\"Age Distribution\")\n",
    "    plt.xlabel(\"Age\")\n",
    "    plt.ylabel(\"Frequency\")\n",
    "    #plt.savefig(histogram_image_path, bbox_inches=\"tight\")\n",
    "    plt.show()\n",
    "    plt.close()\n",
    "\n",
    "histogram(df)"
   ]
  },
  {
   "cell_type": "code",
   "execution_count": null,
   "id": "7b667d9d",
   "metadata": {},
   "outputs": [],
   "source": []
  }
 ],
 "metadata": {
  "kernelspec": {
   "display_name": "Python 3 (ipykernel)",
   "language": "python",
   "name": "python3"
  },
  "language_info": {
   "codemirror_mode": {
    "name": "ipython",
    "version": 3
   },
   "file_extension": ".py",
   "mimetype": "text/x-python",
   "name": "python",
   "nbconvert_exporter": "python",
   "pygments_lexer": "ipython3",
   "version": "3.8.10"
  }
 },
 "nbformat": 4,
 "nbformat_minor": 5
}
